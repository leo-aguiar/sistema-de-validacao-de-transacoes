{
  "nbformat": 4,
  "nbformat_minor": 0,
  "metadata": {
    "colab": {
      "provenance": [],
      "authorship_tag": "ABX9TyPr9XgGJfz3bThv3P5Uj4Pw",
      "include_colab_link": true
    },
    "kernelspec": {
      "name": "python3",
      "display_name": "Python 3"
    },
    "language_info": {
      "name": "python"
    }
  },
  "cells": [
    {
      "cell_type": "markdown",
      "metadata": {
        "id": "view-in-github",
        "colab_type": "text"
      },
      "source": [
        "<a href=\"https://colab.research.google.com/github/leo-aguiar/sistema-de-validacao-de-transacoes/blob/main/Projeto_Valida%C3%A7%C3%A3o_de_Transa%C3%A7%C3%B5es_Empresariais.ipynb\" target=\"_parent\"><img src=\"https://colab.research.google.com/assets/colab-badge.svg\" alt=\"Open In Colab\"/></a>"
      ]
    },
    {
      "cell_type": "code",
      "source": [
        "'''\n",
        "O projeto desenvolvido em Python visa validar transações de uma empresa a partir de arquivos CSV. Esses arquivos contêm informações sobre 100 transações\n",
        "recentes, incluindo CPF, número do cliente, valor da transação e produto transacionado. Além disso, são fornecidos arquivos com listas de CPFs e números\n",
        "de clientes válidos para comparação.\n",
        "\n",
        "O objetivo principal é criar um relatório que indique a quantidade de transações válidas e inválidas, bem como detalhar os erros encontrados em cada\n",
        "transação inválida. Para isso, foi desenvolvida a função valida_transacao(), que verifica se o CPF e o número do cliente estão nas listas válidas e se o\n",
        "valor da transação é positivo. Essa função retorna verdadeiro somente se todas as condições forem satisfeitas, garantindo a precisão na validação dos\n",
        "dados.\n",
        "\n",
        "Durante a validação, são considerados seis tipos de erros: CPF não numérico, número do cliente não numérico, valor da transação não numérico, produto\n",
        "não string, produto diferente de \"Streaming\" ou \"Delivery\", e transação inválida (quando a função retorna falso). As transações válidas e inválidas são\n",
        "armazenadas em listas separadas para facilitar a organização e análise posterior.\n",
        "\n",
        "Ao final do processo, o relatório gerado em formato txt detalha a quantidade de transações válidas e inválidas, incluindo mensagens específicas para cada\n",
        "erro encontrado.\n",
        "\n",
        "Durante o desenvolvimento deste projeto, foram exercitadas habilidades como manipulação de arquivos, uso de listas e funções em Python, além da aplicação\n",
        "de técnicas de processamento e validação de dados, assegurando a integridade e qualidade dos dados no sistema.\n",
        "'''"
      ],
      "metadata": {
        "id": "xdRk5cJNKlGr"
      },
      "execution_count": null,
      "outputs": []
    },
    {
      "cell_type": "code",
      "execution_count": 1,
      "metadata": {
        "id": "qbpaJ0QWtgaS"
      },
      "outputs": [],
      "source": [
        "# Importa as bibliotecas [pandas e numpy]\n",
        "import pandas as pd\n",
        "import numpy as np"
      ]
    },
    {
      "cell_type": "code",
      "source": [
        "# Lê a coluna 'cpf' do arquivo CSV e converte para uma lista\n",
        "cpfs = pd.read_csv('cpfs_elegiveis.csv')['cpf'].tolist()"
      ],
      "metadata": {
        "id": "GVs0GWP1zvrp"
      },
      "execution_count": 2,
      "outputs": []
    },
    {
      "cell_type": "code",
      "source": [
        "# Lê a coluna 'nu_cliente' do arquivo CSV e converte para uma lista\n",
        "clientes = pd.read_csv('clientes_elegiveis.csv')['nu_cliente'].tolist()"
      ],
      "metadata": {
        "id": "W0D0Kky7zyVA"
      },
      "execution_count": 3,
      "outputs": []
    },
    {
      "cell_type": "code",
      "source": [
        "# Remove duplicatas da lista de cpfs e clientes\n",
        "cpfs = np.unique(cpfs)\n",
        "clientes = np.unique(clientes)"
      ],
      "metadata": {
        "id": "s30prrWz1nFK"
      },
      "execution_count": 4,
      "outputs": []
    },
    {
      "cell_type": "code",
      "source": [
        "# Verifica se o CPF e cliente estão cadastrados e se o valor é positivo\n",
        "from typing import List\n",
        "\n",
        "def valida_transacao(cpf: int, cpf_list: List[int], cliente: int,\n",
        "                     cliente_list: List[int], valor: int) -> bool:\n",
        "    '''\n",
        "    Checa requisitos para retonar se uma transação é válida ou não.\n",
        "\n",
        "    Parâmetros:\n",
        "        cpf: CPF da transação\n",
        "        cpf_list: Lista de CPFs cadastrados\n",
        "        cliente: Cliente da transação\n",
        "        cliente_list: Lista de clientes cadastrados\n",
        "        valor: Valor da transação\n",
        "    Retorno booleano\n",
        "    '''\n",
        "    if cpf in cpf_list and cliente in cliente_list and valor > 0:\n",
        "        return True\n",
        "    else:\n",
        "        return False"
      ],
      "metadata": {
        "id": "0Za2cbx0B6vn"
      },
      "execution_count": 5,
      "outputs": []
    },
    {
      "cell_type": "code",
      "source": [
        "# Inicializa listas para armazenar transações válidas e erros\n",
        "transacoes = []\n",
        "erros = []\n",
        "\n",
        "count = 0\n",
        "\n",
        "# Abre o arquivo CSV para leitura\n",
        "with open('payload_transacoes.csv', 'r') as f:\n",
        "    for line in f:\n",
        "        # Remove espaços em branco e divide a linha em partes\n",
        "        s = line.strip()\n",
        "        s = s.split(';')\n",
        "        count += 1\n",
        "        try:\n",
        "            # Tenta converter o CPF para inteiro\n",
        "            s[0] = int(s[0])\n",
        "        except ValueError:\n",
        "            # Adiciona um erro se CPF não for numérico\n",
        "            erros.append([count, 'CPF precisa ser numerico.'])\n",
        "            continue\n",
        "        try:\n",
        "            # Tenta converter o cliente para inteiro\n",
        "            s[1] = int(s[1])\n",
        "        except ValueError:\n",
        "            # Adiciona um erro se o cliente não for numérico\n",
        "            erros.append([count, 'NU_CLIENTE precisa ser numerico.'])\n",
        "            continue\n",
        "        try:\n",
        "            # Tenta converter o valor da transação para inteiro\n",
        "            s[2] = int(s[2])\n",
        "        except ValueError:\n",
        "            # Adiciona um erro se o valor não for numérico\n",
        "            erros.append([count, 'Valor da transacao precisa ser numerico.'])\n",
        "            continue\n",
        "        try:\n",
        "            # Verifica se o produto é uma string\n",
        "            s[3] = str(s[3])\n",
        "        except ValueError:\n",
        "            # Adiciona um erro se o produto não for uma string\n",
        "            erros.append([count, 'Produto precisa ser string.'])\n",
        "            continue\n",
        "        # Verifica se o produto é 'Streaming' ou 'Delivery'\n",
        "        if s[3] not in (['Streaming', 'Delivery']):\n",
        "            erros.append([count, 'Produto precisa ser streaming ou delivery.'])\n",
        "            continue\n",
        "        # Valida a transação\n",
        "        if valida_transacao(s[0], cpfs, s[1], clientes, s[2]):\n",
        "            # Adiciona a transação válida à lista\n",
        "            transacoes.append([count, *s])\n",
        "        else:\n",
        "            # Adiciona um erro se a transação for inválida\n",
        "            erros.append([count, 'CPF, NU_CLIENTE ou valor da transacao invalido(s).'])\n",
        "\n",
        "# Imprime as primeiras cinco transações válidas e erros\n",
        "print(transacoes[1:5])\n",
        "print(erros[1:5])"
      ],
      "metadata": {
        "id": "weYN-bTJCGS8",
        "colab": {
          "base_uri": "https://localhost:8080/"
        },
        "outputId": "6554ffab-b089-4e62-9648-0432fa4798f2"
      },
      "execution_count": 6,
      "outputs": [
        {
          "output_type": "stream",
          "name": "stdout",
          "text": [
            "[[6, 77, 4900, 24, 'Streaming'], [26, 28, 1659, 109, 'Streaming'], [27, 76, 3553, 130, 'Streaming'], [30, 98, 1279, 186, 'Streaming']]\n",
            "[[3, 'CPF, NU_CLIENTE ou valor da transacao invalido(s).'], [4, 'CPF, NU_CLIENTE ou valor da transacao invalido(s).'], [5, 'CPF precisa ser numerico.'], [7, 'CPF, NU_CLIENTE ou valor da transacao invalido(s).']]\n"
          ]
        }
      ]
    },
    {
      "cell_type": "code",
      "source": [
        "# Extrai os números das linhas válidas das transações\n",
        "linhas_validas = [t[0] for t in transacoes]\n",
        "\n",
        "# Extrai os números das linhas inválidas dos erros\n",
        "linhas_invalidas = [t[0] for t in erros]"
      ],
      "metadata": {
        "id": "hiwqzraTCLNl"
      },
      "execution_count": 7,
      "outputs": []
    },
    {
      "cell_type": "code",
      "source": [
        "# Abre o arquivo para escrita\n",
        "with open('transacoes_report_solucao.txt', 'w') as f:\n",
        "    # Escreve o número de transações válidas\n",
        "    f.write(f'{len(linhas_validas)} transacoes validas\\n')\n",
        "    # Escreve o número de transações inválidas\n",
        "    f.write(f'{len(linhas_invalidas)} transacoes invalidas\\n')\n",
        "    # Itera sobre todas as linhas processadas\n",
        "    for i in range(count+1):\n",
        "        if i in linhas_validas:\n",
        "            # Escreve mensagem para transações válidas\n",
        "            f.write(f'Transacao {i} VALIDA.\\n')\n",
        "        elif i in linhas_invalidas:\n",
        "            # Escreve mensagem para transações inválidas com a mensagem de erro correspondente\n",
        "            f.write(f'Transacao {i} INVALIDA. {[e[1] for e in erros if e[0] == i][0]}\\n')"
      ],
      "metadata": {
        "id": "VkBHWOfDCSb2"
      },
      "execution_count": 9,
      "outputs": []
    }
  ]
}